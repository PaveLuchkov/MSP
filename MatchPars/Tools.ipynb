{
 "cells": [
  {
   "cell_type": "markdown",
   "metadata": {},
   "source": [
    "Обработка для создания списка компаний с наличием паспорта"
   ]
  },
  {
   "cell_type": "code",
   "execution_count": 2,
   "metadata": {},
   "outputs": [],
   "source": [
    "import os\n",
    "import pandas as pd"
   ]
  },
  {
   "cell_type": "code",
   "execution_count": 2,
   "metadata": {},
   "outputs": [],
   "source": [
    "input_folder = \"passports\"\n",
    "output_folder = \"passports/unique_passports\"\n",
    "os.makedirs(output_folder, exist_ok=True)"
   ]
  },
  {
   "cell_type": "code",
   "execution_count": 3,
   "metadata": {},
   "outputs": [],
   "source": [
    "files = [f for f in os.listdir(input_folder) if f.startswith(\"companies_passport_\") and f.endswith(\".csv\")]\n",
    "all_unique_companies = pd.DataFrame(columns=[\"name\"])"
   ]
  },
  {
   "cell_type": "code",
   "execution_count": 4,
   "metadata": {},
   "outputs": [],
   "source": [
    "#  Создание списков уникальных компаний для каждой отрасли и общего списка уникальных компаний\n",
    "for file in files:\n",
    "    industry_name = file.replace(\"companies_passport_\", \"\").replace(\".csv\", \"\")\n",
    "    file_path = os.path.join(input_folder, file)\n",
    "    df = pd.read_csv(file_path, header=None, usecols=[0], names=[\"name\"])\n",
    "    unique_companies = df.drop_duplicates(subset=[\"name\"])\n",
    "    output_file_path = os.path.join(output_folder, f\"ucp_{industry_name}.csv\")\n",
    "    unique_companies.to_csv(output_file_path, index=False, header=False)\n",
    "    all_unique_companies = pd.concat([all_unique_companies, unique_companies])\n",
    "all_unique_companies = all_unique_companies.drop_duplicates(subset=[\"name\"])\n",
    "all_unique_companies.to_csv(os.path.join(output_folder, \"all_ucp.csv\"), index=False, header=False)"
   ]
  },
  {
   "cell_type": "code",
   "execution_count": 5,
   "metadata": {},
   "outputs": [],
   "source": [
    "all_ucp_df = pd.read_csv(os.path.join(output_folder, \"all_ucp.csv\"), header=None, names=[\"name\"])\n",
    "matched_results_folder = \"matched_results\"\n",
    "unique_mc_df = pd.read_csv(os.path.join(matched_results_folder, \"unique_mc.csv\"), header=None, names=[\"name\"])\n",
    "not_in_unique_mc = all_ucp_df[~all_ucp_df[\"name\"].isin(unique_mc_df[\"name\"])]\n",
    "not_in_all_ucp = unique_mc_df[~unique_mc_df[\"name\"].isin(all_ucp_df[\"name\"])]\n",
    "result = pd.concat([not_in_unique_mc, not_in_all_ucp])\n",
    "result.to_csv(os.path.join(output_folder, \"!all_ucp.csv\"), index=False, header=False)"
   ]
  },
  {
   "cell_type": "code",
   "execution_count": 15,
   "metadata": {},
   "outputs": [],
   "source": [
    "# Создание объединенного списка компаний с паспортами\n",
    "\n",
    "input_folder = \"passports/passports\"\n",
    "output_file = os.path.join(input_folder, \"companies_passport.csv\")\n",
    "\n",
    "files = [f for f in os.listdir(input_folder) if f.startswith(\"companies_passport_\") and f.endswith(\".csv\")]\n",
    "\n",
    "combined_df = pd.DataFrame()\n",
    "\n",
    "for file in files:\n",
    "    file_path = os.path.join(input_folder, file)\n",
    "    df = pd.read_csv(file_path, header=None)\n",
    "    combined_df = pd.concat([combined_df, df])\n",
    "\n",
    "combined_df = combined_df.drop_duplicates()\n",
    "\n",
    "combined_df.to_csv(output_file, index=False, header=False)"
   ]
  },
  {
   "cell_type": "code",
   "execution_count": null,
   "metadata": {},
   "outputs": [],
   "source": [
    "#  Добавление колонки с названием отрасли из отпарсенных паспортов\n",
    "\n",
    "input_folder = \"matched_results\"\n",
    "output_file = os.path.join(input_folder, \"dataset.csv\")\n",
    "\n",
    "files = [f for f in os.listdir(input_folder) if f.startswith(\"matched_\") and f.endswith(\".csv\")]\n",
    "\n",
    "combined_df = pd.DataFrame()\n",
    "\n",
    "for file in files:\n",
    "    industry_name = file.replace(\"matched_\", \"\").replace(\".csv\", \"\")\n",
    "    file_path = os.path.join(input_folder, file)\n",
    "    df = pd.read_csv(file_path, header=0)\n",
    "    df['ind'] = industry_name\n",
    "    combined_df = pd.concat([combined_df, df])\n",
    "\n",
    "combined_df = combined_df.drop_duplicates()\n",
    "\n",
    "combined_df.to_csv(output_file, index=False, header=True)"
   ]
  },
  {
   "cell_type": "code",
   "execution_count": null,
   "metadata": {},
   "outputs": [],
   "source": [
    "# Удаление из основного датасета строк, где у компаний нет паспортов\n",
    "\n",
    "all_ucp_df = pd.read_csv('matched_results/!all_ucp.csv', header=None, names=['Компания'])\n",
    "dataset_path = 'matched_results/dataset.csv'\n",
    "df = pd.read_csv(dataset_path)\n",
    "filtered_df = df[~df['Компания'].isin(all_ucp_df['Компания'])]\n",
    "filtered_df.to_csv('dataset.csv', index=False)"
   ]
  },
  {
   "cell_type": "code",
   "execution_count": null,
   "metadata": {},
   "outputs": [
    {
     "name": "stdout",
     "output_type": "stream",
     "text": [
      "                                Компания     Город  \\\n",
      "0                 Стройсервис (Кемерово)  Кемерово   \n",
      "1                 Стройсервис (Кемерово)  Кемерово   \n",
      "2  Атлас Майнинг (ранее Петропаловск ГК)    Москва   \n",
      "3  Атлас Майнинг (ранее Петропаловск ГК)    Москва   \n",
      "4  Атлас Майнинг (ранее Петропаловск ГК)    Москва   \n",
      "\n",
      "                                      Продукт  \\\n",
      "0  VisionLabs Thermo (ранее VisionLabs Termo)   \n",
      "1                             TrueConf Server   \n",
      "2                                 Directum RX   \n",
      "3                           Directum Projects   \n",
      "4                           Datareon Platform   \n",
      "\n",
      "                                          Технология   Год  \n",
      "0  ИБ - Биометрическая идентификация,Системы виде...  2021  \n",
      "1                           SaaS,Видеоконференцсвязь  2019  \n",
      "2                                   BPM,HRM,SaaS,СЭД  2022  \n",
      "3                       Системы управления проектами  2021  \n",
      "4  Data Quality - Качество данных,MDM - Master Da...  2016  \n"
     ]
    },
    {
     "name": "stderr",
     "output_type": "stream",
     "text": [
      "C:\\Users\\Home\\AppData\\Local\\Temp\\ipykernel_25860\\1933984628.py:2: DtypeWarning: Columns (10) have mixed types. Specify dtype option on import or set low_memory=False.\n",
      "  df = pd.read_csv('df.csv')\n"
     ]
    }
   ],
   "source": [
    "# Объединение списков финал\n",
    "df_p2 = pd.read_csv('df_p2.csv', header=None)\n",
    "df = pd.read_csv('df.csv')\n",
    "df_p2.columns = ['Компания', 'Город', 'Продукт', 'Технология', 'Год']\n",
    "print(df_p2.head())\n",
    "merged_df = pd.merge(df, df_p2[['Компания', 'Год', 'Продукт', 'Технология']], left_on=['Компания', 'year'], right_on=['Компания', 'Год'], how='left')\n",
    "merged_df = merged_df.drop(columns=['Год'])\n",
    "merged_df.to_csv('MainDF.csv', index=False)"
   ]
  },
  {
   "cell_type": "code",
   "execution_count": 4,
   "metadata": {},
   "outputs": [
    {
     "name": "stdout",
     "output_type": "stream",
     "text": [
      "26171\n"
     ]
    }
   ],
   "source": [
    "industries_folder = \"industries_df\"\n",
    "files = [f for f in os.listdir(industries_folder) if f.endswith(\".csv\")]\n",
    "\n",
    "row_counts = {}\n",
    "\n",
    "for file in files:\n",
    "    file_path = os.path.join(industries_folder, file)\n",
    "    df = pd.read_csv(file_path)\n",
    "    row_counts[file] = len(df)\n",
    "\n",
    "total_rows = sum(row_counts.values())\n",
    "print(total_rows)"
   ]
  },
  {
   "cell_type": "code",
   "execution_count": 6,
   "metadata": {
    "vscode": {
     "languageId": "ruby"
    }
   },
   "outputs": [
    {
     "name": "stdout",
     "output_type": "stream",
     "text": [
      "Количество уникальных компаний: 2009\n"
     ]
    }
   ],
   "source": [
    "main_df = pd.read_csv('MainDF.csv')\n",
    "\n",
    "columns_to_remove = ['legal_form', 'ownership', 'date_registration', 'date_liquidation',\n",
    " 'name_full', 'address', 'head_inn', 'date_liquidation', 'name_eng', 'registration_num',\n",
    "   'firm_inn', 'legal_form', 'ownership', 'certified_product', 'name_short',\n",
    "    'self_regulatory', 'okved_section', 'employees_full']  \n",
    "main_df = main_df.drop(columns=columns_to_remove, errors='ignore')\n",
    "\n",
    "main_df.to_csv('MainDF.csv', index=False)\n",
    "\n",
    "# Подсчет количества уникальных компаний\n",
    "unique_companies_count = main_df['Компания'].nunique()\n",
    "print(f\"Количество уникальных компаний: {unique_companies_count}\")"
   ]
  },
  {
   "cell_type": "code",
   "execution_count": 7,
   "metadata": {},
   "outputs": [
    {
     "data": {
      "text/html": [
       "<div>\n",
       "<style scoped>\n",
       "    .dataframe tbody tr th:only-of-type {\n",
       "        vertical-align: middle;\n",
       "    }\n",
       "\n",
       "    .dataframe tbody tr th {\n",
       "        vertical-align: top;\n",
       "    }\n",
       "\n",
       "    .dataframe thead th {\n",
       "        text-align: right;\n",
       "    }\n",
       "</style>\n",
       "<table border=\"1\" class=\"dataframe\">\n",
       "  <thead>\n",
       "    <tr style=\"text-align: right;\">\n",
       "      <th></th>\n",
       "      <th>Компания</th>\n",
       "      <th>Город</th>\n",
       "      <th>name</th>\n",
       "      <th>region.y</th>\n",
       "      <th>industry</th>\n",
       "      <th>claims_amount</th>\n",
       "      <th>proceedings_amount</th>\n",
       "      <th>size_cat</th>\n",
       "      <th>employees</th>\n",
       "      <th>income</th>\n",
       "      <th>...</th>\n",
       "      <th>ros</th>\n",
       "      <th>year</th>\n",
       "      <th>code_okved</th>\n",
       "      <th>firts_number_okved</th>\n",
       "      <th>okved_name</th>\n",
       "      <th>retained_earnings</th>\n",
       "      <th>short_term_liab</th>\n",
       "      <th>ind</th>\n",
       "      <th>Продукт</th>\n",
       "      <th>Технология</th>\n",
       "    </tr>\n",
       "  </thead>\n",
       "  <tbody>\n",
       "    <tr>\n",
       "      <th>0</th>\n",
       "      <td>Археологические изыскания в строительстве (АИСТ)</td>\n",
       "      <td>Москва</td>\n",
       "      <td>АРХЕОЛОГИЧЕСКИЕ ИЗЫСКАНИЯ В СТРОИТЕЛЬСТВЕ, ООО</td>\n",
       "      <td>Москва</td>\n",
       "      <td>Расчистка территории строительной площадки</td>\n",
       "      <td>NaN</td>\n",
       "      <td>NaN</td>\n",
       "      <td>Малые предприятия</td>\n",
       "      <td>38.0</td>\n",
       "      <td>129727.0</td>\n",
       "      <td>...</td>\n",
       "      <td>0.2059</td>\n",
       "      <td>2017</td>\n",
       "      <td>43.12.1</td>\n",
       "      <td>43.0</td>\n",
       "      <td>Строительство</td>\n",
       "      <td>NaN</td>\n",
       "      <td>NaN</td>\n",
       "      <td>dobycha_poleznyh_iskopaemyh</td>\n",
       "      <td>NaN</td>\n",
       "      <td>NaN</td>\n",
       "    </tr>\n",
       "    <tr>\n",
       "      <th>1</th>\n",
       "      <td>Археологические изыскания в строительстве (АИСТ)</td>\n",
       "      <td>Москва</td>\n",
       "      <td>АРХЕОЛОГИЧЕСКИЕ ИЗЫСКАНИЯ В СТРОИТЕЛЬСТВЕ, ООО</td>\n",
       "      <td>Москва</td>\n",
       "      <td>Расчистка территории строительной площадки</td>\n",
       "      <td>NaN</td>\n",
       "      <td>NaN</td>\n",
       "      <td>Малые предприятия</td>\n",
       "      <td>41.0</td>\n",
       "      <td>141990.0</td>\n",
       "      <td>...</td>\n",
       "      <td>0.2001</td>\n",
       "      <td>2019</td>\n",
       "      <td>43.12.1</td>\n",
       "      <td>43.0</td>\n",
       "      <td>Строительство</td>\n",
       "      <td>24271000.0</td>\n",
       "      <td>25793000.0</td>\n",
       "      <td>dobycha_poleznyh_iskopaemyh</td>\n",
       "      <td>NaN</td>\n",
       "      <td>NaN</td>\n",
       "    </tr>\n",
       "    <tr>\n",
       "      <th>2</th>\n",
       "      <td>Археологические изыскания в строительстве (АИСТ)</td>\n",
       "      <td>Москва</td>\n",
       "      <td>АРХЕОЛОГИЧЕСКИЕ ИЗЫСКАНИЯ В СТРОИТЕЛЬСТВЕ, ООО</td>\n",
       "      <td>Москва</td>\n",
       "      <td>Расчистка территории строительной площадки</td>\n",
       "      <td>NaN</td>\n",
       "      <td>NaN</td>\n",
       "      <td>Малые предприятия</td>\n",
       "      <td>36.0</td>\n",
       "      <td>120776.0</td>\n",
       "      <td>...</td>\n",
       "      <td>0.2449</td>\n",
       "      <td>2018</td>\n",
       "      <td>43.12.1</td>\n",
       "      <td>43.0</td>\n",
       "      <td>Строительство</td>\n",
       "      <td>13510000.0</td>\n",
       "      <td>27874000.0</td>\n",
       "      <td>dobycha_poleznyh_iskopaemyh</td>\n",
       "      <td>NaN</td>\n",
       "      <td>NaN</td>\n",
       "    </tr>\n",
       "    <tr>\n",
       "      <th>3</th>\n",
       "      <td>Археологические изыскания в строительстве (АИСТ)</td>\n",
       "      <td>Москва</td>\n",
       "      <td>АРХЕОЛОГИЧЕСКИЕ ИЗЫСКАНИЯ В СТРОИТЕЛЬСТВЕ, ООО</td>\n",
       "      <td>Москва</td>\n",
       "      <td>Расчистка территории строительной площадки</td>\n",
       "      <td>NaN</td>\n",
       "      <td>NaN</td>\n",
       "      <td>Малые предприятия</td>\n",
       "      <td>51.0</td>\n",
       "      <td>258674.0</td>\n",
       "      <td>...</td>\n",
       "      <td>0.4590</td>\n",
       "      <td>2022</td>\n",
       "      <td>43.12.1</td>\n",
       "      <td>43.0</td>\n",
       "      <td>Строительство</td>\n",
       "      <td>27646000.0</td>\n",
       "      <td>34800000.0</td>\n",
       "      <td>dobycha_poleznyh_iskopaemyh</td>\n",
       "      <td>NaN</td>\n",
       "      <td>NaN</td>\n",
       "    </tr>\n",
       "    <tr>\n",
       "      <th>4</th>\n",
       "      <td>Археологические изыскания в строительстве (АИСТ)</td>\n",
       "      <td>Москва</td>\n",
       "      <td>АРХЕОЛОГИЧЕСКИЕ ИЗЫСКАНИЯ В СТРОИТЕЛЬСТВЕ, ООО</td>\n",
       "      <td>Москва</td>\n",
       "      <td>Расчистка территории строительной площадки</td>\n",
       "      <td>NaN</td>\n",
       "      <td>NaN</td>\n",
       "      <td>Малые предприятия</td>\n",
       "      <td>NaN</td>\n",
       "      <td>NaN</td>\n",
       "      <td>...</td>\n",
       "      <td>0.0882</td>\n",
       "      <td>2015</td>\n",
       "      <td>43.12.1</td>\n",
       "      <td>43.0</td>\n",
       "      <td>Строительство</td>\n",
       "      <td>NaN</td>\n",
       "      <td>NaN</td>\n",
       "      <td>dobycha_poleznyh_iskopaemyh</td>\n",
       "      <td>NaN</td>\n",
       "      <td>NaN</td>\n",
       "    </tr>\n",
       "  </tbody>\n",
       "</table>\n",
       "<p>5 rows × 47 columns</p>\n",
       "</div>"
      ],
      "text/plain": [
       "                                           Компания   Город  \\\n",
       "0  Археологические изыскания в строительстве (АИСТ)  Москва   \n",
       "1  Археологические изыскания в строительстве (АИСТ)  Москва   \n",
       "2  Археологические изыскания в строительстве (АИСТ)  Москва   \n",
       "3  Археологические изыскания в строительстве (АИСТ)  Москва   \n",
       "4  Археологические изыскания в строительстве (АИСТ)  Москва   \n",
       "\n",
       "                                             name region.y  \\\n",
       "0  АРХЕОЛОГИЧЕСКИЕ ИЗЫСКАНИЯ В СТРОИТЕЛЬСТВЕ, ООО   Москва   \n",
       "1  АРХЕОЛОГИЧЕСКИЕ ИЗЫСКАНИЯ В СТРОИТЕЛЬСТВЕ, ООО   Москва   \n",
       "2  АРХЕОЛОГИЧЕСКИЕ ИЗЫСКАНИЯ В СТРОИТЕЛЬСТВЕ, ООО   Москва   \n",
       "3  АРХЕОЛОГИЧЕСКИЕ ИЗЫСКАНИЯ В СТРОИТЕЛЬСТВЕ, ООО   Москва   \n",
       "4  АРХЕОЛОГИЧЕСКИЕ ИЗЫСКАНИЯ В СТРОИТЕЛЬСТВЕ, ООО   Москва   \n",
       "\n",
       "                                     industry  claims_amount  \\\n",
       "0  Расчистка территории строительной площадки            NaN   \n",
       "1  Расчистка территории строительной площадки            NaN   \n",
       "2  Расчистка территории строительной площадки            NaN   \n",
       "3  Расчистка территории строительной площадки            NaN   \n",
       "4  Расчистка территории строительной площадки            NaN   \n",
       "\n",
       "   proceedings_amount           size_cat employees    income  ...     ros  \\\n",
       "0                 NaN  Малые предприятия      38.0  129727.0  ...  0.2059   \n",
       "1                 NaN  Малые предприятия      41.0  141990.0  ...  0.2001   \n",
       "2                 NaN  Малые предприятия      36.0  120776.0  ...  0.2449   \n",
       "3                 NaN  Малые предприятия      51.0  258674.0  ...  0.4590   \n",
       "4                 NaN  Малые предприятия       NaN       NaN  ...  0.0882   \n",
       "\n",
       "   year  code_okved  firts_number_okved     okved_name  retained_earnings  \\\n",
       "0  2017     43.12.1                43.0  Строительство                NaN   \n",
       "1  2019     43.12.1                43.0  Строительство         24271000.0   \n",
       "2  2018     43.12.1                43.0  Строительство         13510000.0   \n",
       "3  2022     43.12.1                43.0  Строительство         27646000.0   \n",
       "4  2015     43.12.1                43.0  Строительство                NaN   \n",
       "\n",
       "   short_term_liab                          ind  Продукт  Технология  \n",
       "0              NaN  dobycha_poleznyh_iskopaemyh      NaN         NaN  \n",
       "1       25793000.0  dobycha_poleznyh_iskopaemyh      NaN         NaN  \n",
       "2       27874000.0  dobycha_poleznyh_iskopaemyh      NaN         NaN  \n",
       "3       34800000.0  dobycha_poleznyh_iskopaemyh      NaN         NaN  \n",
       "4              NaN  dobycha_poleznyh_iskopaemyh      NaN         NaN  \n",
       "\n",
       "[5 rows x 47 columns]"
      ]
     },
     "execution_count": 7,
     "metadata": {},
     "output_type": "execute_result"
    }
   ],
   "source": [
    "MainDF = pd.read_csv('MainDF.csv')\n",
    "MainDF.head()"
   ]
  }
 ],
 "metadata": {
  "kernelspec": {
   "display_name": "Python 3",
   "language": "python",
   "name": "python3"
  },
  "language_info": {
   "codemirror_mode": {
    "name": "ipython",
    "version": 3
   },
   "file_extension": ".py",
   "mimetype": "text/x-python",
   "name": "python",
   "nbconvert_exporter": "python",
   "pygments_lexer": "ipython3",
   "version": "3.13.1"
  }
 },
 "nbformat": 4,
 "nbformat_minor": 2
}
