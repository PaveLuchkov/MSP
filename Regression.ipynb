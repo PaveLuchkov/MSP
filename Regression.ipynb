{
 "cells": [
  {
   "cell_type": "code",
   "execution_count": 2,
   "metadata": {},
   "outputs": [],
   "source": [
    "import pandas as pd\n",
    "import numpy as np\n",
    "from scipy import stats\n",
    "import matplotlib.pyplot as plt\n",
    "from linearmodels import PanelOLS\n",
    "from statsmodels.stats.outliers_influence import variance_inflation_factor\n",
    "import statsmodels.api as sm\n",
    "import seaborn as sns"
   ]
  },
  {
   "cell_type": "code",
   "execution_count": 3,
   "metadata": {},
   "outputs": [],
   "source": [
    "file_path = \"cleaned_dataset.csv\"  \n",
    "df = pd.read_csv(file_path, na_values=[''])"
   ]
  },
  {
   "cell_type": "code",
   "execution_count": null,
   "metadata": {},
   "outputs": [],
   "source": [
    "def cumulative_technologies(group):\n",
    "    cumulative = set()  # Используем множество для хранения уникальных технологий\n",
    "    result = []\n",
    "    tech_years = {}  # Словарь для хранения года внедрения каждой технологии\n",
    "\n",
    "    for year, tech in group.items():  # Используем .items() вместо .iteritems()\n",
    "        if tech:  # Игнорируем пустые строки\n",
    "            # Разделяем строку на отдельные технологии по запятым\n",
    "            technologies = [t.strip() for t in tech.split(',')]\n",
    "            for t in technologies:\n",
    "                tech_years[t] = year  # Запоминаем год внедрения технологии\n",
    "                cumulative.add(t)\n",
    "\n",
    "        # Удаляем технологии, срок действия которых истек (более 3 лет назад)\n",
    "        current_year = year\n",
    "        cumulative = {t for t in cumulative if current_year - tech_years[t] <= 3}\n",
    "\n",
    "        # Объединяем уникальные технологии в строку с разделителем запятая\n",
    "        result.append(', '.join(sorted(cumulative)))  # Сортируем для удобства\n",
    "\n",
    "    return result"
   ]
  },
  {
   "cell_type": "code",
   "execution_count": null,
   "metadata": {},
   "outputs": [
    {
     "name": "stdout",
     "output_type": "stream",
     "text": [
      "size_cat\n",
      "1    521\n",
      "2     40\n",
      "Name: count, dtype: int64\n"
     ]
    }
   ],
   "source": [
    "print(df.reset_index().groupby('Компания')['size_cat'].nunique().value_counts())\n"
   ]
  },
  {
   "cell_type": "code",
   "execution_count": null,
   "metadata": {},
   "outputs": [],
   "source": [
    "# Заполняем пропущенные значения в столбце 'Технология' пустой строкой\n",
    "df['Технология'] = df['Технология'].fillna('')\n",
    "\n",
    "# Сортируем данные по компании и году\n",
    "df = df.sort_values(by=['Компания', 'year'])\n",
    "\n",
    "# Применяем функцию к каждой группе\n",
    "df['Кумулятивные_технологии'] = df.groupby('Компания')['Технология'].transform(cumulative_technologies)"
   ]
  },
  {
   "cell_type": "code",
   "execution_count": null,
   "metadata": {},
   "outputs": [],
   "source": [
    "df['techdm'] = df['Кумулятивные_технологии'].apply(lambda x: 1 if x else 0)"
   ]
  },
  {
   "cell_type": "code",
   "execution_count": null,
   "metadata": {},
   "outputs": [],
   "source": [
    "# Calculate the foundation year for each company\n",
    "df['Год_основания'] = df.groupby('Компания')['year'].transform('min')\n",
    "\n",
    "# Calculate the age of the company\n",
    "df['age'] = df['year'] - df['Год_основания']"
   ]
  },
  {
   "cell_type": "markdown",
   "metadata": {},
   "source": [
    "---\n",
    "Строю регрессию тут"
   ]
  },
  {
   "cell_type": "code",
   "execution_count": null,
   "metadata": {},
   "outputs": [],
   "source": [
    "# Преобразование строки технологий в список и подсчет количества\n",
    "df['Количество_технологий'] = df['Кумулятивные_технологии'].apply(\n",
    "    lambda x: len(set(x.split(', '))) if x else 0\n",
    ")"
   ]
  },
  {
   "cell_type": "code",
   "execution_count": null,
   "metadata": {},
   "outputs": [],
   "source": [
    "df = df.groupby(['Компания', 'year']).first()"
   ]
  },
  {
   "cell_type": "code",
   "execution_count": null,
   "metadata": {},
   "outputs": [],
   "source": [
    "# Создаем дамми-переменные для столбца 'ind'\n",
    "ind_dummies = pd.get_dummies(df['ind'], prefix='Industry', drop_first=True).set_index(df.index)\n",
    "size_dummies = pd.get_dummies(df['size_cat'], prefix='Size', drop_first=True).set_index(df.index)\n",
    "\n",
    "# Присоединяем дамми-переменные к основному датафрейму\n",
    "df = pd.concat([df, ind_dummies], axis=1)\n",
    "df = pd.concat([df, size_dummies], axis=1)"
   ]
  },
  {
   "cell_type": "code",
   "execution_count": null,
   "metadata": {},
   "outputs": [
    {
     "name": "stdout",
     "output_type": "stream",
     "text": [
      "ind_dummies duplicated indices: 0\n",
      "size_dummies duplicated indices: 0\n"
     ]
    }
   ],
   "source": [
    "print(\"ind_dummies duplicated indices:\", ind_dummies.index.duplicated().sum())\n",
    "print(\"size_dummies duplicated indices:\", size_dummies.index.duplicated().sum())\n"
   ]
  },
  {
   "cell_type": "code",
   "execution_count": null,
   "metadata": {},
   "outputs": [
    {
     "name": "stdout",
     "output_type": "stream",
     "text": [
      "Уникальные индексы в df: True\n"
     ]
    }
   ],
   "source": [
    "print(\"Уникальные индексы в df:\", df.index.is_unique)\n"
   ]
  },
  {
   "cell_type": "code",
   "execution_count": null,
   "metadata": {},
   "outputs": [
    {
     "data": {
      "text/plain": [
       "Index(['Город', 'name', 'region.y', 'industry', 'claims_amount',\n",
       "       'proceedings_amount', 'size_cat', 'employees', 'income', 'expenses',\n",
       "       'intangibles', 'fixed_assets', 'noncurrent_assets', 'inventory',\n",
       "       'net_assets', 'receivables', 'current_assets', 'assets', 'lt_debt',\n",
       "       'st_debt', 'passive', 'nwc', 'equity', 'total_debt', 'sales', 'cgs',\n",
       "       'commercial', 'admin_expenses', 'interest_paid', 'ebt', 'eat', 'ebit',\n",
       "       'labor_costs', 'interest_payment', 'interest_coverage',\n",
       "       'net_profit_margin', 'ros', 'code_okved', 'firts_number_okved', 'ind',\n",
       "       'Продукт', 'Технология', 'inflation', 'Кумулятивные_технологии',\n",
       "       'techdm', 'Год_основания', 'age', 'Количество_технологий',\n",
       "       'Industry_elektrotehnika', 'Industry_energetika',\n",
       "       'Industry_farmacevtika', 'Industry_finansovye_uslugi',\n",
       "       'Industry_gazovaya_promyshlennost',\n",
       "       'Industry_gosudarstvennye_struktury',\n",
       "       'Industry_himicheskaya_promyshlennost',\n",
       "       'Industry_industriya_razvlecheniy',\n",
       "       'Industry_informacionnaya_bezopasnost',\n",
       "       'Industry_informacionnye_tehnologii', 'Industry_internet_servisy',\n",
       "       'Industry_konsalting', 'Industry_legkaya_promyshlennost',\n",
       "       'Industry_lesnoe_hozyaystvo', 'Industry_logistika',\n",
       "       'Industry_mashinostroenie',\n",
       "       'Industry_metallurgicheskaya_promyshlennost', 'Industry_nedvizhimost',\n",
       "       'Industry_neftyanaya_promyshlennost', 'Industry_obrazovanie',\n",
       "       'Industry_orgtehnika', 'Industry_pishhevaya_promyshlennost',\n",
       "       'Industry_poligraficheskaya_deyatelnost', 'Industry_reklama',\n",
       "       'Industry_selskoe_hozyaystvo', 'Industry_smi', 'Industry_stroitelstvo',\n",
       "       'Industry_telekommunikaciya', 'Industry_torgovlya',\n",
       "       'Industry_tovary_narodnogo_potrebleniya', 'Industry_transport',\n",
       "       'Industry_turizm', 'Industry_yurisprudenciya',\n",
       "       'Industry_yuvelirnaya_promyshlennost', 'Industry_zhkh',\n",
       "       'Size_Средние предприятия'],\n",
       "      dtype='object')"
      ]
     },
     "execution_count": 281,
     "metadata": {},
     "output_type": "execute_result"
    }
   ],
   "source": [
    "df.columns"
   ]
  },
  {
   "cell_type": "code",
   "execution_count": null,
   "metadata": {},
   "outputs": [
    {
     "name": "stderr",
     "output_type": "stream",
     "text": [
      "c:\\Users\\Home\\AppData\\Local\\Programs\\Python\\Python313\\Lib\\site-packages\\pandas\\core\\arraylike.py:399: RuntimeWarning: invalid value encountered in log1p\n",
      "  result = getattr(ufunc, method)(*inputs, **kwargs)\n",
      "c:\\Users\\Home\\AppData\\Local\\Programs\\Python\\Python313\\Lib\\site-packages\\pandas\\core\\arraylike.py:399: RuntimeWarning: invalid value encountered in log1p\n",
      "  result = getattr(ufunc, method)(*inputs, **kwargs)\n",
      "c:\\Users\\Home\\AppData\\Local\\Programs\\Python\\Python313\\Lib\\site-packages\\pandas\\core\\arraylike.py:399: RuntimeWarning: invalid value encountered in log1p\n",
      "  result = getattr(ufunc, method)(*inputs, **kwargs)\n",
      "c:\\Users\\Home\\AppData\\Local\\Programs\\Python\\Python313\\Lib\\site-packages\\pandas\\core\\arraylike.py:399: RuntimeWarning: invalid value encountered in log1p\n",
      "  result = getattr(ufunc, method)(*inputs, **kwargs)\n",
      "c:\\Users\\Home\\AppData\\Local\\Programs\\Python\\Python313\\Lib\\site-packages\\pandas\\core\\arraylike.py:399: RuntimeWarning: invalid value encountered in log1p\n",
      "  result = getattr(ufunc, method)(*inputs, **kwargs)\n",
      "c:\\Users\\Home\\AppData\\Local\\Programs\\Python\\Python313\\Lib\\site-packages\\pandas\\core\\arraylike.py:399: RuntimeWarning: invalid value encountered in log1p\n",
      "  result = getattr(ufunc, method)(*inputs, **kwargs)\n",
      "c:\\Users\\Home\\AppData\\Local\\Programs\\Python\\Python313\\Lib\\site-packages\\pandas\\core\\arraylike.py:399: RuntimeWarning: invalid value encountered in log1p\n",
      "  result = getattr(ufunc, method)(*inputs, **kwargs)\n",
      "c:\\Users\\Home\\AppData\\Local\\Programs\\Python\\Python313\\Lib\\site-packages\\pandas\\core\\arraylike.py:399: RuntimeWarning: invalid value encountered in log1p\n",
      "  result = getattr(ufunc, method)(*inputs, **kwargs)\n"
     ]
    }
   ],
   "source": [
    "df['log_sales'] = np.log1p(df['sales'])\n",
    "df['log_cgs'] = np.log1p(df['cgs'])\n",
    "df['log_eat'] = np.log1p(df['eat'])\n",
    "df['log_ebit'] = np.log1p(df['ebit'])\n",
    "df['log_ebt'] = np.log1p(df['ebt'])\n",
    "df['log_td'] = np.log1p(df['total_debt'])\n",
    "df['log_lc'] = np.log1p(df['labor_costs'])\n",
    "df['log_nwc'] = np.log1p(df['nwc'])\n",
    "df['log_assets'] = np.log1p(df['assets'])\n",
    "df['log_inv'] = np.log1p(df['inventory'])\n",
    "df['log_eq'] = np.log1p(df['equity'])\n",
    "df['log_rec'] = np.log1p(df['receivables'])\n",
    "df['log_na'] = np.log1p(df['net_assets'])\n",
    "df['log_fa'] = np.log1p(df['fixed_assets'])\n",
    "df['log_ip'] = np.log1p(df['interest_paid'])\n",
    "df['log_inf'] = np.log1p(df['inflation'])\n",
    "\n",
    "df['lag_tech'] = df.groupby(level='Компания')['Количество_технологий'].shift(1)"
   ]
  },
  {
   "cell_type": "code",
   "execution_count": null,
   "metadata": {},
   "outputs": [
    {
     "name": "stderr",
     "output_type": "stream",
     "text": [
      "C:\\Users\\Home\\AppData\\Local\\Temp\\ipykernel_24364\\107979903.py:1: FutureWarning: SeriesGroupBy.fillna is deprecated and will be removed in a future version. Use obj.ffill() or obj.bfill() for forward or backward filling instead. If you want to fill with a single value, use Series.fillna instead\n",
      "  df['employees'] = df.groupby('Компания')['employees'].fillna(method='bfill')\n",
      "C:\\Users\\Home\\AppData\\Local\\Temp\\ipykernel_24364\\107979903.py:1: FutureWarning: Series.fillna with 'method' is deprecated and will raise in a future version. Use obj.ffill() or obj.bfill() instead.\n",
      "  df['employees'] = df.groupby('Компания')['employees'].fillna(method='bfill')\n"
     ]
    }
   ],
   "source": [
    "df['employees'] = df.groupby('Компания')['employees'].fillna(method='bfill')\n",
    "df['log_empl'] = np.log1p(df['employees'])\n"
   ]
  },
  {
   "cell_type": "code",
   "execution_count": null,
   "metadata": {},
   "outputs": [
    {
     "data": {
      "text/plain": [
       "['Город',\n",
       " 'name',\n",
       " 'region.y',\n",
       " 'industry',\n",
       " 'claims_amount',\n",
       " 'proceedings_amount',\n",
       " 'size_cat',\n",
       " 'employees',\n",
       " 'income',\n",
       " 'expenses',\n",
       " 'intangibles',\n",
       " 'fixed_assets',\n",
       " 'noncurrent_assets',\n",
       " 'inventory',\n",
       " 'net_assets',\n",
       " 'receivables',\n",
       " 'current_assets',\n",
       " 'assets',\n",
       " 'lt_debt',\n",
       " 'st_debt',\n",
       " 'passive',\n",
       " 'nwc',\n",
       " 'equity',\n",
       " 'total_debt',\n",
       " 'sales',\n",
       " 'cgs',\n",
       " 'commercial',\n",
       " 'admin_expenses',\n",
       " 'interest_paid',\n",
       " 'ebt',\n",
       " 'eat',\n",
       " 'ebit',\n",
       " 'labor_costs',\n",
       " 'interest_payment',\n",
       " 'interest_coverage',\n",
       " 'net_profit_margin',\n",
       " 'ros',\n",
       " 'code_okved',\n",
       " 'firts_number_okved',\n",
       " 'ind',\n",
       " 'Продукт',\n",
       " 'Технология',\n",
       " 'inflation',\n",
       " 'Кумулятивные_технологии',\n",
       " 'techdm',\n",
       " 'Год_основания',\n",
       " 'age',\n",
       " 'Количество_технологий',\n",
       " 'Industry_elektrotehnika',\n",
       " 'Industry_energetika',\n",
       " 'Industry_farmacevtika',\n",
       " 'Industry_finansovye_uslugi',\n",
       " 'Industry_gazovaya_promyshlennost',\n",
       " 'Industry_gosudarstvennye_struktury',\n",
       " 'Industry_himicheskaya_promyshlennost',\n",
       " 'Industry_industriya_razvlecheniy',\n",
       " 'Industry_informacionnaya_bezopasnost',\n",
       " 'Industry_informacionnye_tehnologii',\n",
       " 'Industry_internet_servisy',\n",
       " 'Industry_konsalting',\n",
       " 'Industry_legkaya_promyshlennost',\n",
       " 'Industry_lesnoe_hozyaystvo',\n",
       " 'Industry_logistika',\n",
       " 'Industry_mashinostroenie',\n",
       " 'Industry_metallurgicheskaya_promyshlennost',\n",
       " 'Industry_nedvizhimost',\n",
       " 'Industry_neftyanaya_promyshlennost',\n",
       " 'Industry_obrazovanie',\n",
       " 'Industry_orgtehnika',\n",
       " 'Industry_pishhevaya_promyshlennost',\n",
       " 'Industry_poligraficheskaya_deyatelnost',\n",
       " 'Industry_reklama',\n",
       " 'Industry_selskoe_hozyaystvo',\n",
       " 'Industry_smi',\n",
       " 'Industry_stroitelstvo',\n",
       " 'Industry_telekommunikaciya',\n",
       " 'Industry_torgovlya',\n",
       " 'Industry_tovary_narodnogo_potrebleniya',\n",
       " 'Industry_transport',\n",
       " 'Industry_turizm',\n",
       " 'Industry_yurisprudenciya',\n",
       " 'Industry_yuvelirnaya_promyshlennost',\n",
       " 'Industry_zhkh',\n",
       " 'Size_Средние предприятия',\n",
       " 'log_sales',\n",
       " 'log_cgs',\n",
       " 'log_eat',\n",
       " 'log_ebit',\n",
       " 'log_ebt',\n",
       " 'log_td',\n",
       " 'log_lc',\n",
       " 'log_nwc',\n",
       " 'log_assets',\n",
       " 'log_inv',\n",
       " 'log_eq',\n",
       " 'log_rec',\n",
       " 'log_na',\n",
       " 'log_fa',\n",
       " 'log_ip',\n",
       " 'log_inf',\n",
       " 'lag_tech',\n",
       " 'log_empl']"
      ]
     },
     "execution_count": 284,
     "metadata": {},
     "output_type": "execute_result"
    }
   ],
   "source": [
    "list(df.columns)"
   ]
  },
  {
   "cell_type": "code",
   "execution_count": null,
   "metadata": {},
   "outputs": [],
   "source": [
    "financial_columns = ['sales', 'assets', 'receivables', 'employees', 'cgs', 'inventory', 'ebt', 'labor_costs', 'equity', 'nwc', 'interest_paid', 'fixed_assets']"
   ]
  },
  {
   "cell_type": "code",
   "execution_count": null,
   "metadata": {},
   "outputs": [
    {
     "data": {
      "text/plain": [
       "sales              1\n",
       "assets             0\n",
       "receivables        0\n",
       "employees        101\n",
       "cgs               52\n",
       "inventory         66\n",
       "ebt                2\n",
       "labor_costs      881\n",
       "equity             0\n",
       "nwc                0\n",
       "interest_paid    838\n",
       "fixed_assets      87\n",
       "dtype: int64"
      ]
     },
     "execution_count": 286,
     "metadata": {},
     "output_type": "execute_result"
    }
   ],
   "source": [
    "#Определеим количество пропусков переменных\n",
    "df[financial_columns].isnull().sum()"
   ]
  },
  {
   "cell_type": "code",
   "execution_count": null,
   "metadata": {},
   "outputs": [
    {
     "name": "stdout",
     "output_type": "stream",
     "text": [
      "    Feature   VIF\n",
      "0     const 61.95\n",
      "1   log_nwc  1.16\n",
      "2  log_empl  1.16\n"
     ]
    }
   ],
   "source": [
    "# X — матрица предикторов без категориальных переменных\n",
    "VIF_check = ['log_nwc', 'log_empl']\n",
    "X_numerical = df[VIF_check]\n",
    "\n",
    "# Добавляем константу для корректности расчетов\n",
    "X_numerical = sm.add_constant(X_numerical)\n",
    "X_numerical = X_numerical.dropna()\n",
    "\n",
    "# Рассчитываем VIF\n",
    "vif_data = pd.DataFrame()\n",
    "vif_data[\"Feature\"] = X_numerical.columns\n",
    "vif_data[\"VIF\"] = [variance_inflation_factor(X_numerical.values, i) for i in range(X_numerical.shape[1])]\n",
    "\n",
    "print(vif_data)\n"
   ]
  },
  {
   "cell_type": "code",
   "execution_count": null,
   "metadata": {},
   "outputs": [
    {
     "data": {
      "image/png": "[encoded data removed]",
      "text/plain": [
       "<Figure size 1000x600 with 2 Axes>"
      ]
     },
     "metadata": {},
     "output_type": "display_data"
    }
   ],
   "source": [
    "corr_matrix = X_numerical.corr()\n",
    "\n",
    "# Визуализация\n",
    "plt.figure(figsize=(10, 6))\n",
    "sns.heatmap(corr_matrix, annot=True, cmap=\"coolwarm\", fmt=\".2f\")\n",
    "plt.title(\"Корреляционная матрица предикторов\")\n",
    "plt.show()\n"
   ]
  },
  {
   "cell_type": "code",
   "execution_count": null,
   "metadata": {},
   "outputs": [],
   "source": [
    "# Зависимая переменная\n",
    "y = df['log_sales']\n",
    "X = df[['Количество_технологий']]\n",
    "X = X.join(size_dummies)\n",
    "financial_controls = ['log_empl', 'log_nwc']\n",
    "X = X.join(df[financial_controls])"
   ]
  },
  {
   "cell_type": "code",
   "execution_count": null,
   "metadata": {},
   "outputs": [
    {
     "name": "stdout",
     "output_type": "stream",
     "text": [
      "Пропущенные значения в y: 1\n",
      "Пропущенные значения в X: Количество_технологий         0\n",
      "Size_Средние предприятия      0\n",
      "log_empl                    101\n",
      "log_nwc                     638\n",
      "dtype: int64\n"
     ]
    }
   ],
   "source": [
    "# Проверка пропущенных значений в y\n",
    "print(f\"Пропущенные значения в y: {y.isnull().sum()}\")\n",
    "\n",
    "# Проверка пропущенных значений в X\n",
    "print(f\"Пропущенные значения в X: {X.isnull().sum()}\")"
   ]
  },
  {
   "cell_type": "code",
   "execution_count": null,
   "metadata": {},
   "outputs": [
    {
     "data": {
      "text/plain": [
       "Index(['Город', 'name', 'region.y', 'industry', 'claims_amount',\n",
       "       'proceedings_amount', 'size_cat', 'employees', 'income', 'expenses',\n",
       "       ...\n",
       "       'log_assets', 'log_inv', 'log_eq', 'log_rec', 'log_na', 'log_fa',\n",
       "       'log_ip', 'log_inf', 'lag_tech', 'log_empl'],\n",
       "      dtype='object', length=102)"
      ]
     },
     "execution_count": 291,
     "metadata": {},
     "output_type": "execute_result"
    }
   ],
   "source": [
    "df.columns"
   ]
  },
  {
   "cell_type": "markdown",
   "metadata": {},
   "source": [
    "# SALES / EMPLOYEES"
   ]
  },
  {
   "cell_type": "code",
   "execution_count": null,
   "metadata": {},
   "outputs": [
    {
     "name": "stdout",
     "output_type": "stream",
     "text": [
      "                          PanelOLS Estimation Summary                           \n",
      "================================================================================\n",
      "Dep. Variable:              log_sales   R-squared:                        0.3060\n",
      "Estimator:                   PanelOLS   R-squared (Between):              0.5822\n",
      "No. Observations:                3458   R-squared (Within):               0.3750\n",
      "Date:                 Вс, мар 23 2025   R-squared (Overall):              0.5877\n",
      "Time:                        10:35:07   Log-likelihood                   -2067.5\n",
      "Cov. Estimator:             Clustered                                           \n",
      "                                        F-statistic:                      320.80\n",
      "Entities:                         534   P-value                           0.0000\n",
      "Avg Obs:                       6.4757   Distribution:                  F(4,2910)\n",
      "Min Obs:                       1.0000                                           \n",
      "Max Obs:                       11.000   F-statistic (robust):             38.321\n",
      "                                        P-value                           0.0000\n",
      "Time periods:                      11   Distribution:                  F(4,2910)\n",
      "Avg Obs:                       314.36                                           \n",
      "Min Obs:                       101.00                                           \n",
      "Max Obs:                       471.00                                           \n",
      "                                                                                \n",
      "                                    Parameter Estimates                                     \n",
      "============================================================================================\n",
      "                          Parameter  Std. Err.     T-stat    P-value    Lower CI    Upper CI\n",
      "--------------------------------------------------------------------------------------------\n",
      "Количество_технологий        0.0246     0.0086     2.8619     0.0042      0.0077      0.0414\n",
      "Size_Средние предприятия     0.4858     0.1032     4.7052     0.0000      0.2834      0.6883\n",
      "log_empl                     0.7134     0.0981     7.2758     0.0000      0.5212      0.9057\n",
      "log_nwc                      0.1455     0.0217     6.7077     0.0000      0.1029      0.1880\n",
      "============================================================================================\n",
      "\n",
      "F-test for Poolability: 9.0830\n",
      "P-value: 0.0000\n",
      "Distribution: F(543,2910)\n",
      "\n",
      "Included effects: Entity, Time\n"
     ]
    },
    {
     "name": "stderr",
     "output_type": "stream",
     "text": [
      "c:\\Users\\Home\\AppData\\Local\\Programs\\Python\\Python313\\Lib\\site-packages\\linearmodels\\panel\\model.py:1260: MissingValueWarning: \n",
      "Inputs contain missing values. Dropping rows with missing observations.\n",
      "  super().__init__(dependent, exog, weights=weights, check_rank=check_rank)\n"
     ]
    }
   ],
   "source": [
    "# Модель с фиксированными эффектами\n",
    "model = PanelOLS(y, X, entity_effects=True, time_effects=True, drop_absorbed=True)\n",
    "pd.options.display.float_format = '{:.2f}'.format\n",
    "# Выполняем модель и выводим результаты\n",
    "results = model.fit(cov_type='clustered', cluster_entity=True)\n",
    "print(results.summary)"
   ]
  },
  {
   "cell_type": "markdown",
   "metadata": {},
   "source": [
    "# EBT / Assets"
   ]
  },
  {
   "cell_type": "code",
   "execution_count": null,
   "metadata": {},
   "outputs": [
    {
     "name": "stdout",
     "output_type": "stream",
     "text": [
      "                          PanelOLS Estimation Summary                           \n",
      "================================================================================\n",
      "Dep. Variable:                log_ebt   R-squared:                        0.1444\n",
      "Estimator:                   PanelOLS   R-squared (Between):              0.9303\n",
      "No. Observations:                3114   R-squared (Within):               0.2201\n",
      "Date:                 Вс, мар 23 2025   R-squared (Overall):              0.9203\n",
      "Time:                        10:35:07   Log-likelihood                   -4251.5\n",
      "Cov. Estimator:             Clustered                                           \n",
      "                                        F-statistic:                      108.09\n",
      "Entities:                         538   P-value                           0.0000\n",
      "Avg Obs:                       5.7881   Distribution:                  F(4,2562)\n",
      "Min Obs:                       1.0000                                           \n",
      "Max Obs:                       11.000   F-statistic (robust):             51.691\n",
      "                                        P-value                           0.0000\n",
      "Time periods:                      11   Distribution:                  F(4,2562)\n",
      "Avg Obs:                       283.09                                           \n",
      "Min Obs:                       85.000                                           \n",
      "Max Obs:                       440.00                                           \n",
      "                                                                                \n",
      "                                    Parameter Estimates                                     \n",
      "============================================================================================\n",
      "                          Parameter  Std. Err.     T-stat    P-value    Lower CI    Upper CI\n",
      "--------------------------------------------------------------------------------------------\n",
      "Количество_технологий       -0.0189     0.0199    -0.9466     0.3439     -0.0579      0.0202\n",
      "Size_Средние предприятия     0.7180     0.2041     3.5179     0.0004      0.3178      1.1182\n",
      "log_assets                   0.8257     0.0835     9.8923     0.0000      0.6620      0.9894\n",
      "log_nwc                      0.1503     0.0431     3.4864     0.0005      0.0658      0.2348\n",
      "============================================================================================\n",
      "\n",
      "F-test for Poolability: 6.0151\n",
      "P-value: 0.0000\n",
      "Distribution: F(547,2562)\n",
      "\n",
      "Included effects: Entity, Time\n"
     ]
    },
    {
     "name": "stderr",
     "output_type": "stream",
     "text": [
      "c:\\Users\\Home\\AppData\\Local\\Programs\\Python\\Python313\\Lib\\site-packages\\linearmodels\\panel\\model.py:1260: MissingValueWarning: \n",
      "Inputs contain missing values. Dropping rows with missing observations.\n",
      "  super().__init__(dependent, exog, weights=weights, check_rank=check_rank)\n"
     ]
    }
   ],
   "source": [
    "y = df['log_ebt']\n",
    "X = df[['Количество_технологий']].join(pd.get_dummies(df['size_cat'], prefix='Size', drop_first=True))\n",
    "financial_controls = ['log_assets', 'log_nwc']\n",
    "X = X.join(df[financial_controls])\n",
    "\n",
    "# Модель с фиксированными эффектами\n",
    "model = PanelOLS(y, X, entity_effects=True, time_effects=True, drop_absorbed=True)\n",
    "pd.options.display.float_format = '{:.2f}'.format\n",
    "# Выполняем модель и выводим результаты\n",
    "results = model.fit(cov_type='clustered', cluster_entity=True)\n",
    "print(results.summary)"
   ]
  },
  {
   "cell_type": "markdown",
   "metadata": {},
   "source": [
    "# CGS / Inventory"
   ]
  },
  {
   "cell_type": "code",
   "execution_count": null,
   "metadata": {},
   "outputs": [
    {
     "name": "stdout",
     "output_type": "stream",
     "text": [
      "                          PanelOLS Estimation Summary                           \n",
      "================================================================================\n",
      "Dep. Variable:                log_cgs   R-squared:                        0.2380\n",
      "Estimator:                   PanelOLS   R-squared (Between):              0.7113\n",
      "No. Observations:                4050   R-squared (Within):               0.3055\n",
      "Date:                 Вс, мар 23 2025   R-squared (Overall):              0.7115\n",
      "Time:                        10:35:08   Log-likelihood                   -3260.5\n",
      "Cov. Estimator:             Clustered                                           \n",
      "                                        F-statistic:                      271.80\n",
      "Entities:                         555   P-value                           0.0000\n",
      "Avg Obs:                       7.2973   Distribution:                  F(4,3481)\n",
      "Min Obs:                       1.0000                                           \n",
      "Max Obs:                       11.000   F-statistic (robust):             41.784\n",
      "                                        P-value                           0.0000\n",
      "Time periods:                      11   Distribution:                  F(4,3481)\n",
      "Avg Obs:                       368.18                                           \n",
      "Min Obs:                       128.00                                           \n",
      "Max Obs:                       535.00                                           \n",
      "                                                                                \n",
      "                                    Parameter Estimates                                     \n",
      "============================================================================================\n",
      "                          Parameter  Std. Err.     T-stat    P-value    Lower CI    Upper CI\n",
      "--------------------------------------------------------------------------------------------\n",
      "Количество_технологий        0.0339     0.0099     3.4409     0.0006      0.0146      0.0532\n",
      "Size_Средние предприятия     0.5419     0.1234     4.3925     0.0000      0.3000      0.7837\n",
      "log_inv                      0.0897     0.0230     3.8962     0.0001      0.0446      0.1349\n",
      "log_rec                      0.4100     0.0402     10.208     0.0000      0.3312      0.4887\n",
      "============================================================================================\n",
      "\n",
      "F-test for Poolability: 13.150\n",
      "P-value: 0.0000\n",
      "Distribution: F(564,3481)\n",
      "\n",
      "Included effects: Entity, Time\n"
     ]
    },
    {
     "name": "stderr",
     "output_type": "stream",
     "text": [
      "c:\\Users\\Home\\AppData\\Local\\Programs\\Python\\Python313\\Lib\\site-packages\\linearmodels\\panel\\model.py:1260: MissingValueWarning: \n",
      "Inputs contain missing values. Dropping rows with missing observations.\n",
      "  super().__init__(dependent, exog, weights=weights, check_rank=check_rank)\n"
     ]
    }
   ],
   "source": [
    "y = df['log_cgs']\n",
    "X = df[['Количество_технологий']].join(pd.get_dummies(df['size_cat'], prefix='Size', drop_first=True))\n",
    "financial_controls = ['log_inv', 'log_rec']\n",
    "X = X.join(df[financial_controls])\n",
    "\n",
    "# Модель с фиксированными эффектами\n",
    "model = PanelOLS(y, X, entity_effects=True, time_effects=True, drop_absorbed=True)\n",
    "pd.options.display.float_format = '{:.2f}'.format\n",
    "# Выполняем модель и выводим результаты\n",
    "results = model.fit(cov_type='clustered', cluster_entity=True)\n",
    "print(results.summary)"
   ]
  },
  {
   "cell_type": "markdown",
   "metadata": {},
   "source": [
    "# EBT / Equity"
   ]
  },
  {
   "cell_type": "code",
   "execution_count": null,
   "metadata": {},
   "outputs": [
    {
     "name": "stderr",
     "output_type": "stream",
     "text": [
      "c:\\Users\\Home\\AppData\\Local\\Programs\\Python\\Python313\\Lib\\site-packages\\linearmodels\\panel\\model.py:1260: MissingValueWarning: \n",
      "Inputs contain missing values. Dropping rows with missing observations.\n",
      "  super().__init__(dependent, exog, weights=weights, check_rank=check_rank)\n"
     ]
    },
    {
     "name": "stdout",
     "output_type": "stream",
     "text": [
      "                          PanelOLS Estimation Summary                           \n",
      "================================================================================\n",
      "Dep. Variable:                log_ebt   R-squared:                        0.2286\n",
      "Estimator:                   PanelOLS   R-squared (Between):              0.9890\n",
      "No. Observations:                3053   R-squared (Within):               0.2916\n",
      "Date:                 Вс, мар 23 2025   R-squared (Overall):              0.9824\n",
      "Time:                        10:35:08   Log-likelihood                   -3988.7\n",
      "Cov. Estimator:             Clustered                                           \n",
      "                                        F-statistic:                      185.92\n",
      "Entities:                         529   P-value                           0.0000\n",
      "Avg Obs:                       5.7713   Distribution:                  F(4,2510)\n",
      "Min Obs:                       1.0000                                           \n",
      "Max Obs:                       11.000   F-statistic (robust):             74.025\n",
      "                                        P-value                           0.0000\n",
      "Time periods:                      11   Distribution:                  F(4,2510)\n",
      "Avg Obs:                       277.55                                           \n",
      "Min Obs:                       82.000                                           \n",
      "Max Obs:                       431.00                                           \n",
      "                                                                                \n",
      "                                    Parameter Estimates                                     \n",
      "============================================================================================\n",
      "                          Parameter  Std. Err.     T-stat    P-value    Lower CI    Upper CI\n",
      "--------------------------------------------------------------------------------------------\n",
      "Количество_технологий       -0.0253     0.0186    -1.3649     0.1724     -0.0618      0.0111\n",
      "Size_Средние предприятия     0.5871     0.1597     3.6769     0.0002      0.2740      0.9002\n",
      "log_eq                       0.8170     0.0580     14.087     0.0000      0.7033      0.9308\n",
      "log_nwc                      0.0581     0.0391     1.4886     0.1367     -0.0184      0.1347\n",
      "============================================================================================\n",
      "\n",
      "F-test for Poolability: 5.1484\n",
      "P-value: 0.0000\n",
      "Distribution: F(538,2510)\n",
      "\n",
      "Included effects: Entity, Time\n"
     ]
    }
   ],
   "source": [
    "y = df['log_ebt']\n",
    "X = df[['Количество_технологий']].join(pd.get_dummies(df['size_cat'], prefix='Size', drop_first=True))\n",
    "financial_controls = ['log_eq', 'log_nwc']\n",
    "X = X.join(df[financial_controls])\n",
    "\n",
    "# Модель с фиксированными эффектами\n",
    "model = PanelOLS(y, X, entity_effects=True, time_effects=True, drop_absorbed=True)\n",
    "pd.options.display.float_format = '{:.2f}'.format\n",
    "# Выполняем модель и выводим результаты\n",
    "results = model.fit(cov_type='clustered', cluster_entity=True)\n",
    "print(results.summary)"
   ]
  },
  {
   "cell_type": "markdown",
   "metadata": {},
   "source": [
    "# EBT / Sales"
   ]
  },
  {
   "cell_type": "code",
   "execution_count": null,
   "metadata": {},
   "outputs": [
    {
     "name": "stderr",
     "output_type": "stream",
     "text": [
      "c:\\Users\\Home\\AppData\\Local\\Programs\\Python\\Python313\\Lib\\site-packages\\linearmodels\\panel\\model.py:1260: MissingValueWarning: \n",
      "Inputs contain missing values. Dropping rows with missing observations.\n",
      "  super().__init__(dependent, exog, weights=weights, check_rank=check_rank)\n"
     ]
    },
    {
     "name": "stdout",
     "output_type": "stream",
     "text": [
      "                          PanelOLS Estimation Summary                           \n",
      "================================================================================\n",
      "Dep. Variable:                log_ebt   R-squared:                        0.2406\n",
      "Estimator:                   PanelOLS   R-squared (Between):              0.5882\n",
      "No. Observations:                3114   R-squared (Within):               0.3074\n",
      "Date:                 Вс, мар 23 2025   R-squared (Overall):              0.5725\n",
      "Time:                        10:35:08   Log-likelihood                   -4065.8\n",
      "Cov. Estimator:             Clustered                                           \n",
      "                                        F-statistic:                      202.91\n",
      "Entities:                         538   P-value                           0.0000\n",
      "Avg Obs:                       5.7881   Distribution:                  F(4,2562)\n",
      "Min Obs:                       1.0000                                           \n",
      "Max Obs:                       11.000   F-statistic (robust):             78.780\n",
      "                                        P-value                           0.0000\n",
      "Time periods:                      11   Distribution:                  F(4,2562)\n",
      "Avg Obs:                       283.09                                           \n",
      "Min Obs:                       85.000                                           \n",
      "Max Obs:                       440.00                                           \n",
      "                                                                                \n",
      "                                    Parameter Estimates                                     \n",
      "============================================================================================\n",
      "                          Parameter  Std. Err.     T-stat    P-value    Lower CI    Upper CI\n",
      "--------------------------------------------------------------------------------------------\n",
      "Количество_технологий       -0.0274     0.0181    -1.5126     0.1305     -0.0630      0.0081\n",
      "Size_Средние предприятия     0.2479     0.2059     1.2045     0.2285     -0.1557      0.6516\n",
      "log_sales                    1.1393     0.0790     14.415     0.0000      0.9843      1.2942\n",
      "log_nwc                      0.1312     0.0396     3.3140     0.0009      0.0536      0.2088\n",
      "============================================================================================\n",
      "\n",
      "F-test for Poolability: 7.4126\n",
      "P-value: 0.0000\n",
      "Distribution: F(547,2562)\n",
      "\n",
      "Included effects: Entity, Time\n"
     ]
    }
   ],
   "source": [
    "y = df['log_ebt']\n",
    "X = df[['Количество_технологий']].join(pd.get_dummies(df['size_cat'], prefix='Size', drop_first=True))\n",
    "financial_controls = ['log_sales', 'log_nwc']\n",
    "X = X.join(df[financial_controls])\n",
    "\n",
    "# Модель с фиксированными эффектами\n",
    "model = PanelOLS(y, X, entity_effects=True, time_effects=True, drop_absorbed=True)\n",
    "pd.options.display.float_format = '{:.2f}'.format\n",
    "# Выполняем модель и выводим результаты\n",
    "results = model.fit(cov_type='clustered', cluster_entity=True)\n",
    "print(results.summary)"
   ]
  },
  {
   "cell_type": "markdown",
   "metadata": {},
   "source": [
    "# Sales / Assets"
   ]
  },
  {
   "cell_type": "code",
   "execution_count": null,
   "metadata": {},
   "outputs": [
    {
     "name": "stderr",
     "output_type": "stream",
     "text": [
      "c:\\Users\\Home\\AppData\\Local\\Programs\\Python\\Python313\\Lib\\site-packages\\linearmodels\\panel\\model.py:1260: MissingValueWarning: \n",
      "Inputs contain missing values. Dropping rows with missing observations.\n",
      "  super().__init__(dependent, exog, weights=weights, check_rank=check_rank)\n"
     ]
    },
    {
     "name": "stdout",
     "output_type": "stream",
     "text": [
      "                          PanelOLS Estimation Summary                           \n",
      "================================================================================\n",
      "Dep. Variable:              log_sales   R-squared:                        0.3440\n",
      "Estimator:                   PanelOLS   R-squared (Between):              0.9185\n",
      "No. Observations:                3526   R-squared (Within):               0.4547\n",
      "Date:                 Вс, мар 23 2025   R-squared (Overall):              0.9178\n",
      "Time:                        10:35:08   Log-likelihood                   -1981.3\n",
      "Cov. Estimator:             Clustered                                           \n",
      "                                        F-statistic:                      389.04\n",
      "Entities:                         544   P-value                           0.0000\n",
      "Avg Obs:                       6.4816   Distribution:                  F(4,2968)\n",
      "Min Obs:                       1.0000                                           \n",
      "Max Obs:                       11.000   F-statistic (robust):             63.171\n",
      "                                        P-value                           0.0000\n",
      "Time periods:                      11   Distribution:                  F(4,2968)\n",
      "Avg Obs:                       320.55                                           \n",
      "Min Obs:                       104.00                                           \n",
      "Max Obs:                       477.00                                           \n",
      "                                                                                \n",
      "                                    Parameter Estimates                                     \n",
      "============================================================================================\n",
      "                          Parameter  Std. Err.     T-stat    P-value    Lower CI    Upper CI\n",
      "--------------------------------------------------------------------------------------------\n",
      "Количество_технологий        0.0255     0.0092     2.7611     0.0058      0.0074      0.0437\n",
      "Size_Средние предприятия     0.4641     0.1041     4.4565     0.0000      0.2599      0.6684\n",
      "log_assets                   0.6941     0.0484     14.345     0.0000      0.5992      0.7890\n",
      "log_nwc                      0.0288     0.0195     1.4782     0.1394     -0.0094      0.0671\n",
      "============================================================================================\n",
      "\n",
      "F-test for Poolability: 9.6111\n",
      "P-value: 0.0000\n",
      "Distribution: F(553,2968)\n",
      "\n",
      "Included effects: Entity, Time\n"
     ]
    }
   ],
   "source": [
    "y = df['log_sales']\n",
    "X = df[['Количество_технологий']].join(pd.get_dummies(df['size_cat'], prefix='Size', drop_first=True))\n",
    "financial_controls = ['log_assets', 'log_nwc']\n",
    "X = X.join(df[financial_controls])\n",
    "\n",
    "# Модель с фиксированными эффектами\n",
    "model = PanelOLS(y, X, entity_effects=True, time_effects=True, drop_absorbed=True)\n",
    "pd.options.display.float_format = '{:.2f}'.format\n",
    "# Выполняем модель и выводим результаты\n",
    "results = model.fit(cov_type='clustered', cluster_entity=True)\n",
    "print(results.summary)"
   ]
  },
  {
   "cell_type": "markdown",
   "metadata": {},
   "source": [
    "# Sales / Recievables"
   ]
  },
  {
   "cell_type": "code",
   "execution_count": null,
   "metadata": {},
   "outputs": [
    {
     "name": "stdout",
     "output_type": "stream",
     "text": [
      "                          PanelOLS Estimation Summary                           \n",
      "================================================================================\n",
      "Dep. Variable:              log_sales   R-squared:                        0.3062\n",
      "Estimator:                   PanelOLS   R-squared (Between):              0.7073\n",
      "No. Observations:                3816   R-squared (Within):               0.4077\n",
      "Date:                 Вс, мар 23 2025   R-squared (Overall):              0.7089\n",
      "Time:                        10:35:08   Log-likelihood                   -2138.4\n",
      "Cov. Estimator:             Clustered                                           \n",
      "                                        F-statistic:                      359.24\n",
      "Entities:                         546   P-value                           0.0000\n",
      "Avg Obs:                       6.9890   Distribution:                  F(4,3256)\n",
      "Min Obs:                       1.0000                                           \n",
      "Max Obs:                       11.000   F-statistic (robust):             43.490\n",
      "                                        P-value                           0.0000\n",
      "Time periods:                      11   Distribution:                  F(4,3256)\n",
      "Avg Obs:                       346.91                                           \n",
      "Min Obs:                       118.00                                           \n",
      "Max Obs:                       514.00                                           \n",
      "                                                                                \n",
      "                                    Parameter Estimates                                     \n",
      "============================================================================================\n",
      "                          Parameter  Std. Err.     T-stat    P-value    Lower CI    Upper CI\n",
      "--------------------------------------------------------------------------------------------\n",
      "Количество_технологий        0.0228     0.0089     2.5646     0.0104      0.0054      0.0403\n",
      "Size_Средние предприятия     0.5142     0.1086     4.7360     0.0000      0.3013      0.7270\n",
      "log_rec                      0.3444     0.0427     8.0746     0.0000      0.2608      0.4281\n",
      "log_na                       0.1585     0.0286     5.5498     0.0000      0.1025      0.2145\n",
      "============================================================================================\n",
      "\n",
      "F-test for Poolability: 8.8851\n",
      "P-value: 0.0000\n",
      "Distribution: F(555,3256)\n",
      "\n",
      "Included effects: Entity, Time\n"
     ]
    },
    {
     "name": "stderr",
     "output_type": "stream",
     "text": [
      "c:\\Users\\Home\\AppData\\Local\\Programs\\Python\\Python313\\Lib\\site-packages\\linearmodels\\panel\\model.py:1260: MissingValueWarning: \n",
      "Inputs contain missing values. Dropping rows with missing observations.\n",
      "  super().__init__(dependent, exog, weights=weights, check_rank=check_rank)\n"
     ]
    }
   ],
   "source": [
    "y = df['log_sales']\n",
    "X = df[['Количество_технологий']].join(pd.get_dummies(df['size_cat'], prefix='Size', drop_first=True))\n",
    "financial_controls = ['log_rec', 'log_na']\n",
    "X = X.join(df[financial_controls])\n",
    "\n",
    "# Модель с фиксированными эффектами\n",
    "model = PanelOLS(y, X, entity_effects=True, time_effects=True, drop_absorbed=True)\n",
    "pd.options.display.float_format = '{:.2f}'.format\n",
    "# Выполняем модель и выводим результаты\n",
    "results = model.fit(cov_type='clustered', cluster_entity=True)\n",
    "print(results.summary)"
   ]
  },
  {
   "cell_type": "markdown",
   "metadata": {},
   "source": [
    "# Total Debt / Equity"
   ]
  },
  {
   "cell_type": "code",
   "execution_count": null,
   "metadata": {},
   "outputs": [
    {
     "name": "stderr",
     "output_type": "stream",
     "text": [
      "c:\\Users\\Home\\AppData\\Local\\Programs\\Python\\Python313\\Lib\\site-packages\\linearmodels\\panel\\model.py:1260: MissingValueWarning: \n",
      "Inputs contain missing values. Dropping rows with missing observations.\n",
      "  super().__init__(dependent, exog, weights=weights, check_rank=check_rank)\n"
     ]
    },
    {
     "name": "stdout",
     "output_type": "stream",
     "text": [
      "                          PanelOLS Estimation Summary                           \n",
      "================================================================================\n",
      "Dep. Variable:                 log_td   R-squared:                        0.2933\n",
      "Estimator:                   PanelOLS   R-squared (Between):              0.7255\n",
      "No. Observations:                3816   R-squared (Within):               0.3444\n",
      "Date:                 Вс, мар 23 2025   R-squared (Overall):              0.7247\n",
      "Time:                        10:35:08   Log-likelihood                   -2669.8\n",
      "Cov. Estimator:             Clustered                                           \n",
      "                                        F-statistic:                      337.90\n",
      "Entities:                         546   P-value                           0.0000\n",
      "Avg Obs:                       6.9890   Distribution:                  F(4,3256)\n",
      "Min Obs:                       1.0000                                           \n",
      "Max Obs:                       11.000   F-statistic (robust):             59.345\n",
      "                                        P-value                           0.0000\n",
      "Time periods:                      11   Distribution:                  F(4,3256)\n",
      "Avg Obs:                       346.91                                           \n",
      "Min Obs:                       118.00                                           \n",
      "Max Obs:                       514.00                                           \n",
      "                                                                                \n",
      "                                    Parameter Estimates                                     \n",
      "============================================================================================\n",
      "                          Parameter  Std. Err.     T-stat    P-value    Lower CI    Upper CI\n",
      "--------------------------------------------------------------------------------------------\n",
      "Количество_технологий        0.0125     0.0092     1.3590     0.1742     -0.0055      0.0305\n",
      "Size_Средние предприятия     0.2103     0.1344     1.5643     0.1178     -0.0533      0.4738\n",
      "log_eq                      -0.0360     0.0210    -1.7121     0.0870     -0.0772      0.0052\n",
      "log_rec                      0.5307     0.0358     14.818     0.0000      0.4605      0.6009\n",
      "============================================================================================\n",
      "\n",
      "F-test for Poolability: 16.265\n",
      "P-value: 0.0000\n",
      "Distribution: F(555,3256)\n",
      "\n",
      "Included effects: Entity, Time\n"
     ]
    }
   ],
   "source": [
    "y = df['log_td']\n",
    "X = df[['Количество_технологий']].join(pd.get_dummies(df['size_cat'], prefix='Size', drop_first=True))\n",
    "financial_controls = ['log_eq', 'log_rec']\n",
    "X = X.join(df[financial_controls])\n",
    "\n",
    "# Модель с фиксированными эффектами\n",
    "model = PanelOLS(y, X, entity_effects=True, time_effects=True, drop_absorbed=True)\n",
    "pd.options.display.float_format = '{:.2f}'.format\n",
    "# Выполняем модель и выводим результаты\n",
    "results = model.fit(cov_type='clustered', cluster_entity=True)\n",
    "print(results.summary)"
   ]
  },
  {
   "cell_type": "code",
   "execution_count": null,
   "metadata": {},
   "outputs": [],
   "source": [
    "from linearmodels.panel import RandomEffects\n",
    "from scipy.stats import chi2"
   ]
  },
  {
   "cell_type": "code",
   "execution_count": null,
   "metadata": {},
   "outputs": [
    {
     "name": "stderr",
     "output_type": "stream",
     "text": [
      "c:\\Users\\Home\\AppData\\Local\\Programs\\Python\\Python313\\Lib\\site-packages\\linearmodels\\panel\\model.py:1260: MissingValueWarning: \n",
      "Inputs contain missing values. Dropping rows with missing observations.\n",
      "  super().__init__(dependent, exog, weights=weights, check_rank=check_rank)\n"
     ]
    }
   ],
   "source": [
    "fe_model = PanelOLS(y, X, entity_effects=True).fit()"
   ]
  },
  {
   "cell_type": "code",
   "execution_count": null,
   "metadata": {},
   "outputs": [
    {
     "name": "stderr",
     "output_type": "stream",
     "text": [
      "c:\\Users\\Home\\AppData\\Local\\Programs\\Python\\Python313\\Lib\\site-packages\\linearmodels\\panel\\model.py:2759: MissingValueWarning: \n",
      "Inputs contain missing values. Dropping rows with missing observations.\n",
      "  super().__init__(dependent, exog, weights=weights, check_rank=check_rank)\n"
     ]
    }
   ],
   "source": [
    "re_model = RandomEffects(y, X).fit()"
   ]
  },
  {
   "cell_type": "code",
   "execution_count": null,
   "metadata": {},
   "outputs": [],
   "source": [
    "b_fe = fe_model.params\n",
    "b_re = re_model.params\n",
    "diff = b_fe - b_re"
   ]
  },
  {
   "cell_type": "code",
   "execution_count": null,
   "metadata": {},
   "outputs": [],
   "source": [
    "V_fe = fe_model.cov\n",
    "V_re = re_model.cov\n",
    "V_diff = V_fe - V_re"
   ]
  },
  {
   "cell_type": "code",
   "execution_count": null,
   "metadata": {},
   "outputs": [],
   "source": [
    "chi2_stat = diff.T @ np.linalg.inv(V_diff) @ diff\n",
    "p_value = 1 - chi2.cdf(chi2_stat, df=len(diff))"
   ]
  },
  {
   "cell_type": "code",
   "execution_count": null,
   "metadata": {},
   "outputs": [
    {
     "name": "stdout",
     "output_type": "stream",
     "text": [
      "Hausman test statistic: 1119.8552\n",
      "P-value: 0.0000\n"
     ]
    }
   ],
   "source": [
    "print(f'Hausman test statistic: {chi2_stat:.4f}')\n",
    "print(f'P-value: {p_value:.4f}')"
   ]
  }
 ],
 "metadata": {
  "kernelspec": {
   "display_name": "Python 3",
   "language": "python",
   "name": "python3"
  },
  "language_info": {
   "codemirror_mode": {
    "name": "ipython",
    "version": 3
   },
   "file_extension": ".py",
   "mimetype": "text/x-python",
   "name": "python",
   "nbconvert_exporter": "python",
   "pygments_lexer": "ipython3",
   "version": "3.13.1"
  }
 },
 "nbformat": 4,
 "nbformat_minor": 2
}
