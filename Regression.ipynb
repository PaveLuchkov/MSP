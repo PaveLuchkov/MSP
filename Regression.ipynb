{
 "cells": [
  {
   "cell_type": "code",
   "execution_count": 27,
   "metadata": {},
   "outputs": [],
   "source": [
    "import pandas as pd\n",
    "import numpy as np\n",
    "from scipy import stats\n",
    "import matplotlib.pyplot as plt"
   ]
  },
  {
   "cell_type": "code",
   "execution_count": 35,
   "metadata": {},
   "outputs": [],
   "source": [
    "file_path = \"cleaned_dataset.csv\"  # Укажите путь к вашему CSV-файлу\n",
    "df = pd.read_csv(file_path, na_values=[''])"
   ]
  },
  {
   "cell_type": "code",
   "execution_count": 39,
   "metadata": {},
   "outputs": [],
   "source": [
    "def cumulative_technologies(group):\n",
    "    cumulative = set()  # Используем множество для хранения уникальных технологий\n",
    "    result = []\n",
    "    for tech in group:\n",
    "        if tech:  # Игнорируем пустые строки\n",
    "            # Разделяем строку на отдельные технологии по запятым\n",
    "            technologies = [t.strip() for t in tech.split(',')]\n",
    "            # Добавляем каждую технологию в множество (дубликаты игнорируются)\n",
    "            cumulative.update(technologies)\n",
    "        # Объединяем уникальные технологии в строку с разделителем запятая\n",
    "        result.append(', '.join(sorted(cumulative)))  # Сортируем для удобства\n",
    "    return result"
   ]
  },
  {
   "cell_type": "code",
   "execution_count": 40,
   "metadata": {},
   "outputs": [],
   "source": [
    "# Заполняем пропущенные значения в столбце 'Технология' пустой строкой\n",
    "df['Технология'] = df['Технология'].fillna('')\n",
    "\n",
    "# Сортируем данные по компании и году\n",
    "df = df.sort_values(by=['Компания', 'year'])\n",
    "\n",
    "# Применяем функцию к каждой группе\n",
    "df['Кумулятивные_технологии'] = df.groupby('Компания')['Технология'].transform(cumulative_technologies)"
   ]
  }
 ],
 "metadata": {
  "kernelspec": {
   "display_name": "Python 3",
   "language": "python",
   "name": "python3"
  },
  "language_info": {
   "codemirror_mode": {
    "name": "ipython",
    "version": 3
   },
   "file_extension": ".py",
   "mimetype": "text/x-python",
   "name": "python",
   "nbconvert_exporter": "python",
   "pygments_lexer": "ipython3",
   "version": "3.13.1"
  }
 },
 "nbformat": 4,
 "nbformat_minor": 2
}
